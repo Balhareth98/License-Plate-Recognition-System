{
 "cells": [
  {
   "cell_type": "code",
   "execution_count": 1,
   "metadata": {
    "scrolled": true
   },
   "outputs": [
    {
     "name": "stdout",
     "output_type": "stream",
     "text": [
      "Python 3.8.8\n"
     ]
    }
   ],
   "source": [
    "!python --version"
   ]
  },
  {
   "cell_type": "markdown",
   "metadata": {},
   "source": [
    "## Required Libraries"
   ]
  },
  {
   "cell_type": "code",
   "execution_count": 2,
   "metadata": {
    "id": "Fzf7-DyJT1GS"
   },
   "outputs": [],
   "source": [
    "import os\n",
    "import numpy as np\n",
    "from skimage.io import imread\n",
    "from skimage.filters import threshold_otsu\n",
    "\n",
    "from skimage import measure\n",
    "from skimage.transform import resize\n",
    "import matplotlib.patches as patches\n",
    "import numpy as np\n",
    "\n",
    "import joblib\n",
    "\n",
    "from sklearn.decomposition import PCA\n",
    "\n",
    "from sklearn.svm import SVC\n",
    "\n",
    "import pickle\n",
    "\n",
    "import numpy as np\n",
    "from sklearn.model_selection import train_test_split, cross_val_score\n",
    "from sklearn.metrics import accuracy_score\n",
    "from operator import itemgetter\n",
    "\n",
    "import zipfile\n",
    "import matplotlib.pyplot as plt \n"
   ]
  },
  {
   "cell_type": "markdown",
   "metadata": {},
   "source": [
    "## Data Loading"
   ]
  },
  {
   "cell_type": "code",
   "execution_count": 3,
   "metadata": {
    "id": "qhKTcm17UwMP"
   },
   "outputs": [],
   "source": [
    "\n",
    "training_20X20_dir = os.path.join('C:\\\\Users\\\\balha\\\\Desktop\\\\CISE-483-Final Report\\\\training_data', 'train20X20')\n",
    "training_10X20_dir = os.path.join('C:\\\\Users\\\\balha\\\\Desktop\\\\CISE-483-Final Report\\\\training_data', 'train10X20')\n",
    "\n",
    "letters = [\n",
    "            '0', '1', '2', '3', '4', '5', '6', '7', '8', '9', 'A', 'B', 'C', 'D',\n",
    "            'E', 'F', 'G', 'H', 'J', 'K', 'L', 'M', 'N', 'P', 'Q', 'R', 'S', 'T',\n",
    "            'U', 'V', 'W', 'X', 'Y', 'Z'\n",
    "        ]\n",
    "\n"
   ]
  },
  {
   "cell_type": "code",
   "execution_count": 4,
   "metadata": {
    "id": "rHh0-O7DU3WX"
   },
   "outputs": [],
   "source": [
    "image_data = []\n",
    "target_data = []\n",
    "for each_letter in letters:\n",
    "    for each in range(10):\n",
    "        #training_data[1] is for 10X20 training data images\n",
    "        img_details = imread(training_20X20_dir+'/'+each_letter+'/'+each_letter+'_'+str(each)+'.jpg', as_gray=True)\n",
    "        binary_image = img_details < threshold_otsu(img_details)\n",
    "        flat_bin_image = binary_image.reshape(-1)\n",
    "        image_data.append(flat_bin_image) \n",
    "        target_data.append(each_letter)"
   ]
  },
  {
   "cell_type": "code",
   "execution_count": 5,
   "metadata": {
    "id": "x4jshGFlnXqc"
   },
   "outputs": [],
   "source": [
    "image_data, target_data = (np.array(image_data), np.array(target_data))"
   ]
  },
  {
   "cell_type": "markdown",
   "metadata": {},
   "source": [
    "## Classifier Training"
   ]
  },
  {
   "cell_type": "code",
   "execution_count": 6,
   "metadata": {
    "colab": {
     "base_uri": "https://localhost:8080/"
    },
    "id": "2iDEe_eonhqt",
    "outputId": "64611674-ef9c-4666-aea6-65d7f98ca178"
   },
   "outputs": [
    {
     "data": {
      "text/plain": [
       "SVC(kernel='linear', probability=True)"
      ]
     },
     "execution_count": 6,
     "metadata": {},
     "output_type": "execute_result"
    }
   ],
   "source": [
    "# kernel can be linear, rbf e.t.c\n",
    "svc_model = SVC(kernel='linear', probability=True)\n",
    "\n",
    "svc_model.fit(image_data, target_data)"
   ]
  },
  {
   "cell_type": "markdown",
   "metadata": {},
   "source": [
    "## Classifier Evaluation"
   ]
  },
  {
   "cell_type": "code",
   "execution_count": 7,
   "metadata": {
    "colab": {
     "base_uri": "https://localhost:8080/"
    },
    "id": "qeqCunCbnkG3",
    "outputId": "d3687818-3cb6-4057-becf-6fef88b72cbb",
    "scrolled": true
   },
   "outputs": [
    {
     "name": "stdout",
     "output_type": "stream",
     "text": [
      "96.47% accuracy was recorded\n",
      "Here are the wrong predictions\n",
      "Prediction\tCorrect Label\n",
      "------------------------------\n",
      "Predicted: S\t\t Actual:5\n",
      "Probability Distribution\n",
      "[('6', 0.08615578879510388), ('S', 0.08318886760601675), ('5', 0.06921833291358623), ('9', 0.06463165167658755), ('G', 0.05470818645619777)]\n",
      "------------------------\n",
      "Predicted: Q\t\t Actual:0\n",
      "Probability Distribution\n",
      "[('Q', 0.25507024806860995), ('D', 0.12834068803084328), ('0', 0.09093275822515162), ('B', 0.05312946432810775), ('8', 0.04237492697663927)]\n",
      "------------------------\n",
      "Predicted: R\t\t Actual:B\n",
      "Probability Distribution\n",
      "[('R', 0.07388910683876068), ('B', 0.07279534185478173), ('D', 0.06038563796826763), ('E', 0.05016084270162111), ('G', 0.04715684978532382)]\n",
      "------------------------\n",
      "------------------------------\n"
     ]
    }
   ],
   "source": [
    "wrong_predictions = True\n",
    "\n",
    "img_train, img_test, target_train, target_test = train_test_split(image_data, target_data)\n",
    "svc_model.fit(img_train, target_train)\n",
    "prediction = svc_model.predict(img_test)\n",
    "accuracy = (float(np.sum(prediction == target_test)) / len(target_test))\n",
    "\n",
    "print(str(round(accuracy * 100, 2))+ \"% accuracy was recorded\")\n",
    "\n",
    "def top_predictions(probabilities_prediction):\n",
    "        predictions = probabilities_prediction.reshape(-1).tolist()\n",
    "        predictions_label = []\n",
    "        for index in range(len(predictions)):\n",
    "            predictions_label.append((letters[index], predictions[index]))\n",
    "\n",
    "        predictions_label = sorted(predictions_label, key=itemgetter(1), reverse=True)\n",
    "\n",
    "        print(predictions_label[:5])\n",
    "\n",
    "if wrong_predictions:\n",
    "    print('Here are the wrong predictions')\n",
    "    print('Prediction\\tCorrect Label')\n",
    "    print('------------------------------')\n",
    "\n",
    "    for i in range(len(prediction)):\n",
    "        if prediction[i] != target_test[i]:\n",
    "            probabilities = svc_model.predict_proba(img_test[i].reshape(1, -1))\n",
    "            print('Predicted: '+prediction[i]+'\\t\\t Actual:'+target_test[i])\n",
    "            print('Probability Distribution')\n",
    "            top_predictions(probabilities)\n",
    "            print('------------------------')\n",
    "\n",
    "    print('------------------------------')\n",
    "\n",
    "    # self.print_wrong_predictions(prediction, target_test, img_test, model)"
   ]
  },
  {
   "cell_type": "markdown",
   "metadata": {},
   "source": [
    "## Model Persistence"
   ]
  },
  {
   "cell_type": "code",
   "execution_count": 8,
   "metadata": {
    "colab": {
     "base_uri": "https://localhost:8080/"
    },
    "id": "1yg619rXtor3",
    "outputId": "9d1814da-8221-49a2-dc10-94a6d4eb3503",
    "scrolled": true
   },
   "outputs": [
    {
     "name": "stdout",
     "output_type": "stream",
     "text": [
      "model saved\n"
     ]
    }
   ],
   "source": [
    "filename = \"model.sav\"\n",
    "pickle.dump(svc_model, open(filename, 'wb'))\n",
    "print(\"model saved\")\n"
   ]
  },
  {
   "cell_type": "code",
   "execution_count": 9,
   "metadata": {
    "colab": {
     "base_uri": "https://localhost:8080/",
     "height": 256
    },
    "id": "Pyfdc7TDt8oK",
    "outputId": "3ebed45f-7355-4954-aab6-56d439e321b2"
   },
   "outputs": [
    {
     "data": {
      "image/png": "[encoded data removed]",
      "text/plain": [
       "<Figure size 432x288 with 2 Axes>"
      ]
     },
     "metadata": {
      "needs_background": "light"
     },
     "output_type": "display_data"
    }
   ],
   "source": [
    "## Image Preparation\n",
    "image_path = \"test_image/car4.jpg\"\n",
    "car_image = imread(image_path, as_gray=True)*255\n",
    "threshold_value = threshold_otsu(car_image)\n",
    "binary_car_image = car_image > threshold_value\n",
    "fig, (axis, axis1) = plt.subplots(2, 1)\n",
    "\n",
    "## Detecting Plates\n",
    "label_image = measure.label(binary_car_image)\n",
    "image_height,  image_width=label_image.shape                  \n",
    "plate_dim=(0.05*image_height,0.2*image_height,0.15*image_width,0.6*image_width)\n",
    "\n",
    "## Plot car image\n",
    "axis.imshow(car_image,cmap=\"gray\")\n",
    "\n",
    "lp_cands=[]\n",
    "lp_cand_dimension=[]\n",
    "for region in measure.regionprops(label_image):\n",
    "    minRow, minCol, maxRow, maxCol = region.bbox\n",
    "    (region_height,region_width)=(maxRow-minRow,maxCol-minCol)\n",
    "    \n",
    "    if(region.area < 50 or region_height<0.2*region_width ):\n",
    "        continue\n",
    "    candidate=np.invert(binary_car_image[minRow:maxRow,minCol:maxCol])\n",
    "    if(region_height>=plate_dim[0] and region_height <=plate_dim[1] and region_width>=plate_dim[2] and region_width<= plate_dim[3]):\n",
    "\n",
    "        r, c=candidate.shape\n",
    "        if np.sum(candidate) > 0.3*r*c:\n",
    "            continue\n",
    "        \n",
    "        rectBorder = patches.Rectangle((minCol, minRow), maxCol-minCol, maxRow-minRow, edgecolor=\"red\", linewidth=2, fill=False)\n",
    "        lp_cands.append(candidate)\n",
    "        lp_cand_dimension.append(((minRow,minCol),(maxRow-minRow,maxCol-minCol)))\n",
    "        \n",
    "        # plotting.add_borders(rectBorder,fig,axis) \n",
    "        ## Add borders to license plate\n",
    "        axis.add_patch(rectBorder)\n",
    "    \n",
    "\n",
    "## Character Segmentation\n",
    "segmented_characters=[]\n",
    "idx=0\n",
    "for idx in range(len(lp_cands)):\n",
    "    cand = lp_cands[idx]\n",
    "    \n",
    "    # plotting.plot_car_image(cand, fig, axis1)\n",
    "    axis1.imshow(cand,cmap=\"gray\")\n",
    "\n",
    "\n",
    "    char_dim = (0.30*cand.shape[0], 0.90*cand.shape[0], 0.02*cand.shape[1], 0.1*cand.shape[1])\n",
    "    \n",
    "    labelled_cand = measure.label(cand)\n",
    "    cnt=0\n",
    "    border=[]\n",
    "    temp_chars=[]\n",
    "    for region in measure.regionprops(labelled_cand):                         \n",
    "        minRow, minCol, maxRow, maxCol = region.bbox        \n",
    "        (region_height,region_width)=(maxRow-minRow,maxCol-minCol)\n",
    "        if(maxRow==lp_cand_dimension[idx][1][0]):\n",
    "            continue\n",
    "        #print(region_height,region_width)\n",
    "        if(region_height>=char_dim[0] and region_height <=char_dim[1] and region_width>=char_dim[2] and region_width<= char_dim[3]):\n",
    "            rectBorder = patches.Rectangle((minCol, minRow), maxCol-minCol, maxRow-minRow, edgecolor=\"red\", linewidth=2, fill=False)\n",
    "            border.append(rectBorder)\n",
    "            temp_chars.append((minRow,maxRow,minCol,maxCol)) \n",
    "            \n",
    "            # plotting.add_borders(rectBorder, fig, axis1)               \n",
    "            axis1.add_patch(rectBorder)\n",
    "    \n",
    "    \n",
    "    if(len(border)==10):               \n",
    "        for borders in border:\n",
    "            # plotting.add_borders(borders, fig, axis1)                    \n",
    "            axis1.add_patch(borders)\n",
    "    \n",
    "        dim= lp_cand_dimension[idx]\n",
    "        \n",
    "        for val in temp_chars:\n",
    "            r1=dim[0][0]+val[0]\n",
    "            r2=dim[0][0]+val[1]\n",
    "            c1=dim[0][1]+val[2]\n",
    "            c2=dim[0][1]+val[3]\n",
    "            segmented_characters.append((val[2],resize(np.invert(binary_car_image[r1:r2,c1:c2]),(20,20))))\n",
    "\n",
    "## Show everything\n",
    "plt.show()"
   ]
  },
  {
   "cell_type": "markdown",
   "metadata": {},
   "source": [
    "## Inference"
   ]
  },
  {
   "cell_type": "code",
   "execution_count": 10,
   "metadata": {
    "colab": {
     "base_uri": "https://localhost:8080/"
    },
    "id": "bR8S7d089HPJ",
    "outputId": "4d95a97c-82a8-4666-dc01-964377c773df"
   },
   "outputs": [
    {
     "name": "stdout",
     "output_type": "stream",
     "text": [
      "Detected License Plate Number: MH1ZDE1433\n"
     ]
    }
   ],
   "source": [
    "ans=[]\n",
    "for char in segmented_characters:\n",
    "    # print(plt.imshow(char[1]))\n",
    "    ans.append(svc_model.predict(char[1].reshape(1,-1)))\n",
    "\n",
    "\n",
    "license_plate= []\n",
    "for val in ans:\n",
    "    license_plate.append(val[0])\n",
    "\n",
    "print(\"Detected License Plate Number:\", \"\".join(license_plate))"
   ]
  },
  {
   "cell_type": "code",
   "execution_count": null,
   "metadata": {},
   "outputs": [],
   "source": []
  }
 ],
 "metadata": {
  "colab": {
   "collapsed_sections": [],
   "name": "king_fahd.ipynb",
   "provenance": []
  },
  "kernelspec": {
   "display_name": "Python 3",
   "language": "python",
   "name": "python3"
  },
  "language_info": {
   "codemirror_mode": {
    "name": "ipython",
    "version": 3
   },
   "file_extension": ".py",
   "mimetype": "text/x-python",
   "name": "python",
   "nbconvert_exporter": "python",
   "pygments_lexer": "ipython3",
   "version": "3.8.8"
  }
 },
 "nbformat": 4,
 "nbformat_minor": 1
}
